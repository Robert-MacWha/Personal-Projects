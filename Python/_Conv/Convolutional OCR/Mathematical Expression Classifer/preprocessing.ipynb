{
 "metadata": {
  "language_info": {
   "codemirror_mode": {
    "name": "ipython",
    "version": 3
   },
   "file_extension": ".py",
   "mimetype": "text/x-python",
   "name": "python",
   "nbconvert_exporter": "python",
   "pygments_lexer": "ipython3",
   "version": "3.7.10"
  },
  "orig_nbformat": 2,
  "kernelspec": {
   "name": "python3710jvsc74a57bd047aaa031cb12018cf860fc188ef93508fd4876514978d786fa2a1a0db52824c6",
   "display_name": "Python 3.7.10 64-bit ('tf-gpu': conda)"
  },
  "metadata": {
   "interpreter": {
    "hash": "d06e46749c4c1f3124bc7759bd793c4906203e1e3dcbcbfd001bb236e5a3974b"
   }
  }
 },
 "nbformat": 4,
 "nbformat_minor": 2,
 "cells": [
  {
   "cell_type": "code",
   "execution_count": 1,
   "metadata": {},
   "outputs": [
    {
     "output_type": "execute_result",
     "data": {
      "text/plain": [
       "'\\n\\nThis project will pull data from three seperate csv files and two seperate sources.\\n\\nFirstly, the EMNIST dataset (https://www.kaggle.com/crawford/emnist) will supply both a set of 156k letters (6k per upper/lowercase pair) and 60k digits (6k / digit).\\nUnfortuanently the EMNIST dataset, when extracted into a .npy format, both needs to be rotated by 270* and flipped allong its y axis.  This is done durring the pre-processing phase\\n\\nSecondly, the Handwritten math symbols dataset (https://www.kaggle.com/xainano/handwrittenmathsymbols) will supply 66k images of mathematical symbols (6k / symbol).\\n\\nAll in all this project will have 46 classifications (26 letters, 10 digits, 10 symbols), all of which will be of size 28x28x1\\n\\n'"
      ]
     },
     "metadata": {},
     "execution_count": 1
    }
   ],
   "source": [
    "\"\"\"\n",
    "\n",
    "This project will pull data from three seperate csv files and two seperate sources.\n",
    "\n",
    "Firstly, the EMNIST dataset (https://www.kaggle.com/crawford/emnist) will supply both a set of 156k letters (6k per upper/lowercase pair) and 60k digits (6k / digit).\n",
    "Unfortuanently the EMNIST dataset, when extracted into a .npy format, both needs to be rotated by 270* and flipped allong its y axis.  This is done durring the pre-processing phase\n",
    "\n",
    "Secondly, the Handwritten math symbols dataset (https://www.kaggle.com/xainano/handwrittenmathsymbols) will supply 66k images of mathematical symbols (6k / symbol).\n",
    "\n",
    "All in all this project will have 46 classifications (26 letters, 10 digits, 10 symbols), all of which will be of size 28x28x1\n",
    "\n",
    "\"\"\""
   ]
  },
  {
   "cell_type": "code",
   "execution_count": 2,
   "metadata": {},
   "outputs": [],
   "source": [
    "#? load libraries\n",
    "from IPython.display import display\n",
    "\n",
    "import os\n",
    "import pandas as pd\n",
    "import numpy as np\n",
    "import matplotlib.pyplot as plt\n",
    "from PIL import Image, ImageFilter, ImageEnhance, ImageOps\n",
    "from tqdm import tqdm\n",
    "\n",
    "from tensorflow.keras.preprocessing.image import ImageDataGenerator"
   ]
  },
  {
   "cell_type": "code",
   "execution_count": 3,
   "metadata": {},
   "outputs": [],
   "source": [
    "#? base data storage variables\n",
    "SAMPLES_PER_CLASS = 3000"
   ]
  },
  {
   "cell_type": "code",
   "execution_count": 4,
   "metadata": {
    "tags": []
   },
   "outputs": [
    {
     "output_type": "stream",
     "name": "stdout",
     "text": [
      "(26, 3000, 784)\n"
     ]
    },
    {
     "output_type": "display_data",
     "data": {
      "text/plain": "<Figure size 432x288 with 1 Axes>",
      "image/svg+xml": "<?xml version=\"1.0\" encoding=\"utf-8\" standalone=\"no\"?>\r\n<!DOCTYPE svg PUBLIC \"-//W3C//DTD SVG 1.1//EN\"\r\n  \"http://www.w3.org/Graphics/SVG/1.1/DTD/svg11.dtd\">\r\n<!-- Created with matplotlib (https://matplotlib.org/) -->\r\n<svg height=\"248.518125pt\" version=\"1.1\" viewBox=\"0 0 251.565 248.518125\" width=\"251.565pt\" xmlns=\"http://www.w3.org/2000/svg\" xmlns:xlink=\"http://www.w3.org/1999/xlink\">\r\n <metadata>\r\n  <rdf:RDF xmlns:cc=\"http://creativecommons.org/ns#\" xmlns:dc=\"http://purl.org/dc/elements/1.1/\" xmlns:rdf=\"http://www.w3.org/1999/02/22-rdf-syntax-ns#\">\r\n   <cc:Work>\r\n    <dc:type rdf:resource=\"http://purl.org/dc/dcmitype/StillImage\"/>\r\n    <dc:date>2021-05-13T17:56:23.130347</dc:date>\r\n    <dc:format>image/svg+xml</dc:format>\r\n    <dc:creator>\r\n     <cc:Agent>\r\n      <dc:title>Matplotlib v3.3.4, https://matplotlib.org/</dc:title>\r\n     </cc:Agent>\r\n    </dc:creator>\r\n   </cc:Work>\r\n  </rdf:RDF>\r\n </metadata>\r\n <defs>\r\n  <style type=\"text/css\">*{stroke-linecap:butt;stroke-linejoin:round;}</style>\r\n </defs>\r\n <g id=\"figure_1\">\r\n  <g id=\"patch_1\">\r\n   <path d=\"M 0 248.518125 \r\nL 251.565 248.518125 \r\nL 251.565 0 \r\nL 0 0 \r\nz\r\n\" style=\"fill:none;\"/>\r\n  </g>\r\n  <g id=\"axes_1\">\r\n   <g id=\"patch_2\">\r\n    <path d=\"M 26.925 224.64 \r\nL 244.365 224.64 \r\nL 244.365 7.2 \r\nL 26.925 7.2 \r\nz\r\n\" style=\"fill:#ffffff;\"/>\r\n   </g>\r\n   <g clip-path=\"url(#p66c167b652)\">\r\n    <image height=\"218\" id=\"imageb85c10da6d\" transform=\"scale(1 -1)translate(0 -218)\" width=\"218\" x=\"26.925\" xlink:href=\"data:image/png;base64,\r\niVBORw0KGgoAAAANSUhEUgAAANoAAADaCAYAAADAHVzbAAADZElEQVR4nO3dAW7bMBAAQanI/7/svqARGoUrkpr5gG0BiwN4oHwex/E5gKH+PP0F4A2EBgGhQUBoEBAaBIQGAaFBQGgQEBoEhAYBoUFAaBAQGgSEBgGhQUBoEBAaBIQGAaFBQGgQEBoEhAYBoUFAaBAQGgSEBgGhQUBoEBAaBIQGga+nvwC/7/NZ85+4zvN8+isMY6JBQGgQEBoEhAYBoUFAaBAQGgTO4zjWXLpsbNU92NNm3sOZaBAQGgSEBgGhQUBoEBAaBIQGAffRfmjXXdfVLmrX3z2aiQYBoUFAaBAQGgSEBgGhQUBoEHAf7R9m3hfNfO/qjtHP/MnnZqJBQGgQEBoEhAYBoUFAaBDY9nh/5uP5u3Y93r+y8vG/iQYBoUFAaBAQGgSEBgGhQUBoEJj6dXM778L4fyu/Cs9Eg4DQICA0CAgNAkKDgNAgIDQIDN2jzbzXuHL3btKd3/7W+2Y7M9EgIDQICA0CQoOA0CAgNAgIDQJT30e7wy6KmZhoEBAaBIQGAaFBQGgQEBoEpj7ef+sR/dUVm7c+l5WZaBAQGgSEBgGhQUBoEBAaBIQGgaF7NPseftPKry800SAgNAgIDQJCg4DQICA0CAgNAlPfR2M/K+/C7jDRICA0CAgNAkKDgNAgIDQICA0C9miDfHcX7+ld0tOfP8rM9x9NNAgIDQJCg4DQICA0CAgNAkKDgD0a05h5D3aXiQYBoUFAaBAQGgSEBgGhQcDx/oKurrnsfEy+KhMNAkKDgNAgIDQICA0CQoOA0CBgj/ZCd/ZsI19Vt/N+0ESDgNAgIDQICA0CQoOA0CAgNAicx3Hs+R8+C1t5nzRyzzbz775iokFAaBAQGgSEBgGhQUBoEBAaBOzRSN3Zs9mjAd8SGgSEBgGhQUBoEBAaBIQGgaXf6zjy7tNIV/ugme+jrfrMn2aiQUBoEBAaBIQGAaFBQGgQWPqajKPmvax8DeaKiQYBoUFAaBAQGgSEBgGhQUBoEFh6j3aHHdzP7LzrGslEg4DQICA0CAgNAkKDgNAgIDQIvHaPBiUTDQJCg4DQICA0CAgNAkKDgNAgIDQICA0CQoOA0CAgNAgIDQJCg4DQICA0CAgNAkKDgNAgIDQICA0CQoOA0CAgNAgIDQJCg4DQICA0CAgNAkKDwF+j0F66XkWNBAAAAABJRU5ErkJggg==\" y=\"-6.64\"/>\r\n   </g>\r\n   <g id=\"matplotlib.axis_1\">\r\n    <g id=\"xtick_1\">\r\n     <g id=\"line2d_1\">\r\n      <defs>\r\n       <path d=\"M 0 0 \r\nL 0 3.5 \r\n\" id=\"m3708568d74\" style=\"stroke:#000000;stroke-width:0.8;\"/>\r\n      </defs>\r\n      <g>\r\n       <use style=\"stroke:#000000;stroke-width:0.8;\" x=\"30.807857\" xlink:href=\"#m3708568d74\" y=\"224.64\"/>\r\n      </g>\r\n     </g>\r\n     <g id=\"text_1\">\r\n      <!-- 0 -->\r\n      <g transform=\"translate(27.626607 239.238437)scale(0.1 -0.1)\">\r\n       <defs>\r\n        <path d=\"M 31.78125 66.40625 \r\nQ 24.171875 66.40625 20.328125 58.90625 \r\nQ 16.5 51.421875 16.5 36.375 \r\nQ 16.5 21.390625 20.328125 13.890625 \r\nQ 24.171875 6.390625 31.78125 6.390625 \r\nQ 39.453125 6.390625 43.28125 13.890625 \r\nQ 47.125 21.390625 47.125 36.375 \r\nQ 47.125 51.421875 43.28125 58.90625 \r\nQ 39.453125 66.40625 31.78125 66.40625 \r\nz\r\nM 31.78125 74.21875 \r\nQ 44.046875 74.21875 50.515625 64.515625 \r\nQ 56.984375 54.828125 56.984375 36.375 \r\nQ 56.984375 17.96875 50.515625 8.265625 \r\nQ 44.046875 -1.421875 31.78125 -1.421875 \r\nQ 19.53125 -1.421875 13.0625 8.265625 \r\nQ 6.59375 17.96875 6.59375 36.375 \r\nQ 6.59375 54.828125 13.0625 64.515625 \r\nQ 19.53125 74.21875 31.78125 74.21875 \r\nz\r\n\" id=\"DejaVuSans-48\"/>\r\n       </defs>\r\n       <use xlink:href=\"#DejaVuSans-48\"/>\r\n      </g>\r\n     </g>\r\n    </g>\r\n    <g id=\"xtick_2\">\r\n     <g id=\"line2d_2\">\r\n      <g>\r\n       <use style=\"stroke:#000000;stroke-width:0.8;\" x=\"69.636429\" xlink:href=\"#m3708568d74\" y=\"224.64\"/>\r\n      </g>\r\n     </g>\r\n     <g id=\"text_2\">\r\n      <!-- 5 -->\r\n      <g transform=\"translate(66.455179 239.238437)scale(0.1 -0.1)\">\r\n       <defs>\r\n        <path d=\"M 10.796875 72.90625 \r\nL 49.515625 72.90625 \r\nL 49.515625 64.59375 \r\nL 19.828125 64.59375 \r\nL 19.828125 46.734375 \r\nQ 21.96875 47.46875 24.109375 47.828125 \r\nQ 26.265625 48.1875 28.421875 48.1875 \r\nQ 40.625 48.1875 47.75 41.5 \r\nQ 54.890625 34.8125 54.890625 23.390625 \r\nQ 54.890625 11.625 47.5625 5.09375 \r\nQ 40.234375 -1.421875 26.90625 -1.421875 \r\nQ 22.3125 -1.421875 17.546875 -0.640625 \r\nQ 12.796875 0.140625 7.71875 1.703125 \r\nL 7.71875 11.625 \r\nQ 12.109375 9.234375 16.796875 8.0625 \r\nQ 21.484375 6.890625 26.703125 6.890625 \r\nQ 35.15625 6.890625 40.078125 11.328125 \r\nQ 45.015625 15.765625 45.015625 23.390625 \r\nQ 45.015625 31 40.078125 35.4375 \r\nQ 35.15625 39.890625 26.703125 39.890625 \r\nQ 22.75 39.890625 18.8125 39.015625 \r\nQ 14.890625 38.140625 10.796875 36.28125 \r\nz\r\n\" id=\"DejaVuSans-53\"/>\r\n       </defs>\r\n       <use xlink:href=\"#DejaVuSans-53\"/>\r\n      </g>\r\n     </g>\r\n    </g>\r\n    <g id=\"xtick_3\">\r\n     <g id=\"line2d_3\">\r\n      <g>\r\n       <use style=\"stroke:#000000;stroke-width:0.8;\" x=\"108.465\" xlink:href=\"#m3708568d74\" y=\"224.64\"/>\r\n      </g>\r\n     </g>\r\n     <g id=\"text_3\">\r\n      <!-- 10 -->\r\n      <g transform=\"translate(102.1025 239.238437)scale(0.1 -0.1)\">\r\n       <defs>\r\n        <path d=\"M 12.40625 8.296875 \r\nL 28.515625 8.296875 \r\nL 28.515625 63.921875 \r\nL 10.984375 60.40625 \r\nL 10.984375 69.390625 \r\nL 28.421875 72.90625 \r\nL 38.28125 72.90625 \r\nL 38.28125 8.296875 \r\nL 54.390625 8.296875 \r\nL 54.390625 0 \r\nL 12.40625 0 \r\nz\r\n\" id=\"DejaVuSans-49\"/>\r\n       </defs>\r\n       <use xlink:href=\"#DejaVuSans-49\"/>\r\n       <use x=\"63.623047\" xlink:href=\"#DejaVuSans-48\"/>\r\n      </g>\r\n     </g>\r\n    </g>\r\n    <g id=\"xtick_4\">\r\n     <g id=\"line2d_4\">\r\n      <g>\r\n       <use style=\"stroke:#000000;stroke-width:0.8;\" x=\"147.293571\" xlink:href=\"#m3708568d74\" y=\"224.64\"/>\r\n      </g>\r\n     </g>\r\n     <g id=\"text_4\">\r\n      <!-- 15 -->\r\n      <g transform=\"translate(140.931071 239.238437)scale(0.1 -0.1)\">\r\n       <use xlink:href=\"#DejaVuSans-49\"/>\r\n       <use x=\"63.623047\" xlink:href=\"#DejaVuSans-53\"/>\r\n      </g>\r\n     </g>\r\n    </g>\r\n    <g id=\"xtick_5\">\r\n     <g id=\"line2d_5\">\r\n      <g>\r\n       <use style=\"stroke:#000000;stroke-width:0.8;\" x=\"186.122143\" xlink:href=\"#m3708568d74\" y=\"224.64\"/>\r\n      </g>\r\n     </g>\r\n     <g id=\"text_5\">\r\n      <!-- 20 -->\r\n      <g transform=\"translate(179.759643 239.238437)scale(0.1 -0.1)\">\r\n       <defs>\r\n        <path d=\"M 19.1875 8.296875 \r\nL 53.609375 8.296875 \r\nL 53.609375 0 \r\nL 7.328125 0 \r\nL 7.328125 8.296875 \r\nQ 12.9375 14.109375 22.625 23.890625 \r\nQ 32.328125 33.6875 34.8125 36.53125 \r\nQ 39.546875 41.84375 41.421875 45.53125 \r\nQ 43.3125 49.21875 43.3125 52.78125 \r\nQ 43.3125 58.59375 39.234375 62.25 \r\nQ 35.15625 65.921875 28.609375 65.921875 \r\nQ 23.96875 65.921875 18.8125 64.3125 \r\nQ 13.671875 62.703125 7.8125 59.421875 \r\nL 7.8125 69.390625 \r\nQ 13.765625 71.78125 18.9375 73 \r\nQ 24.125 74.21875 28.421875 74.21875 \r\nQ 39.75 74.21875 46.484375 68.546875 \r\nQ 53.21875 62.890625 53.21875 53.421875 \r\nQ 53.21875 48.921875 51.53125 44.890625 \r\nQ 49.859375 40.875 45.40625 35.40625 \r\nQ 44.1875 33.984375 37.640625 27.21875 \r\nQ 31.109375 20.453125 19.1875 8.296875 \r\nz\r\n\" id=\"DejaVuSans-50\"/>\r\n       </defs>\r\n       <use xlink:href=\"#DejaVuSans-50\"/>\r\n       <use x=\"63.623047\" xlink:href=\"#DejaVuSans-48\"/>\r\n      </g>\r\n     </g>\r\n    </g>\r\n    <g id=\"xtick_6\">\r\n     <g id=\"line2d_6\">\r\n      <g>\r\n       <use style=\"stroke:#000000;stroke-width:0.8;\" x=\"224.950714\" xlink:href=\"#m3708568d74\" y=\"224.64\"/>\r\n      </g>\r\n     </g>\r\n     <g id=\"text_6\">\r\n      <!-- 25 -->\r\n      <g transform=\"translate(218.588214 239.238437)scale(0.1 -0.1)\">\r\n       <use xlink:href=\"#DejaVuSans-50\"/>\r\n       <use x=\"63.623047\" xlink:href=\"#DejaVuSans-53\"/>\r\n      </g>\r\n     </g>\r\n    </g>\r\n   </g>\r\n   <g id=\"matplotlib.axis_2\">\r\n    <g id=\"ytick_1\">\r\n     <g id=\"line2d_7\">\r\n      <defs>\r\n       <path d=\"M 0 0 \r\nL -3.5 0 \r\n\" id=\"m14537a0028\" style=\"stroke:#000000;stroke-width:0.8;\"/>\r\n      </defs>\r\n      <g>\r\n       <use style=\"stroke:#000000;stroke-width:0.8;\" x=\"26.925\" xlink:href=\"#m14537a0028\" y=\"11.082857\"/>\r\n      </g>\r\n     </g>\r\n     <g id=\"text_7\">\r\n      <!-- 0 -->\r\n      <g transform=\"translate(13.5625 14.882076)scale(0.1 -0.1)\">\r\n       <use xlink:href=\"#DejaVuSans-48\"/>\r\n      </g>\r\n     </g>\r\n    </g>\r\n    <g id=\"ytick_2\">\r\n     <g id=\"line2d_8\">\r\n      <g>\r\n       <use style=\"stroke:#000000;stroke-width:0.8;\" x=\"26.925\" xlink:href=\"#m14537a0028\" y=\"49.911429\"/>\r\n      </g>\r\n     </g>\r\n     <g id=\"text_8\">\r\n      <!-- 5 -->\r\n      <g transform=\"translate(13.5625 53.710647)scale(0.1 -0.1)\">\r\n       <use xlink:href=\"#DejaVuSans-53\"/>\r\n      </g>\r\n     </g>\r\n    </g>\r\n    <g id=\"ytick_3\">\r\n     <g id=\"line2d_9\">\r\n      <g>\r\n       <use style=\"stroke:#000000;stroke-width:0.8;\" x=\"26.925\" xlink:href=\"#m14537a0028\" y=\"88.74\"/>\r\n      </g>\r\n     </g>\r\n     <g id=\"text_9\">\r\n      <!-- 10 -->\r\n      <g transform=\"translate(7.2 92.539219)scale(0.1 -0.1)\">\r\n       <use xlink:href=\"#DejaVuSans-49\"/>\r\n       <use x=\"63.623047\" xlink:href=\"#DejaVuSans-48\"/>\r\n      </g>\r\n     </g>\r\n    </g>\r\n    <g id=\"ytick_4\">\r\n     <g id=\"line2d_10\">\r\n      <g>\r\n       <use style=\"stroke:#000000;stroke-width:0.8;\" x=\"26.925\" xlink:href=\"#m14537a0028\" y=\"127.568571\"/>\r\n      </g>\r\n     </g>\r\n     <g id=\"text_10\">\r\n      <!-- 15 -->\r\n      <g transform=\"translate(7.2 131.36779)scale(0.1 -0.1)\">\r\n       <use xlink:href=\"#DejaVuSans-49\"/>\r\n       <use x=\"63.623047\" xlink:href=\"#DejaVuSans-53\"/>\r\n      </g>\r\n     </g>\r\n    </g>\r\n    <g id=\"ytick_5\">\r\n     <g id=\"line2d_11\">\r\n      <g>\r\n       <use style=\"stroke:#000000;stroke-width:0.8;\" x=\"26.925\" xlink:href=\"#m14537a0028\" y=\"166.397143\"/>\r\n      </g>\r\n     </g>\r\n     <g id=\"text_11\">\r\n      <!-- 20 -->\r\n      <g transform=\"translate(7.2 170.196362)scale(0.1 -0.1)\">\r\n       <use xlink:href=\"#DejaVuSans-50\"/>\r\n       <use x=\"63.623047\" xlink:href=\"#DejaVuSans-48\"/>\r\n      </g>\r\n     </g>\r\n    </g>\r\n    <g id=\"ytick_6\">\r\n     <g id=\"line2d_12\">\r\n      <g>\r\n       <use style=\"stroke:#000000;stroke-width:0.8;\" x=\"26.925\" xlink:href=\"#m14537a0028\" y=\"205.225714\"/>\r\n      </g>\r\n     </g>\r\n     <g id=\"text_12\">\r\n      <!-- 25 -->\r\n      <g transform=\"translate(7.2 209.024933)scale(0.1 -0.1)\">\r\n       <use xlink:href=\"#DejaVuSans-50\"/>\r\n       <use x=\"63.623047\" xlink:href=\"#DejaVuSans-53\"/>\r\n      </g>\r\n     </g>\r\n    </g>\r\n   </g>\r\n   <g id=\"patch_3\">\r\n    <path d=\"M 26.925 224.64 \r\nL 26.925 7.2 \r\n\" style=\"fill:none;stroke:#000000;stroke-linecap:square;stroke-linejoin:miter;stroke-width:0.8;\"/>\r\n   </g>\r\n   <g id=\"patch_4\">\r\n    <path d=\"M 244.365 224.64 \r\nL 244.365 7.2 \r\n\" style=\"fill:none;stroke:#000000;stroke-linecap:square;stroke-linejoin:miter;stroke-width:0.8;\"/>\r\n   </g>\r\n   <g id=\"patch_5\">\r\n    <path d=\"M 26.925 224.64 \r\nL 244.365 224.64 \r\n\" style=\"fill:none;stroke:#000000;stroke-linecap:square;stroke-linejoin:miter;stroke-width:0.8;\"/>\r\n   </g>\r\n   <g id=\"patch_6\">\r\n    <path d=\"M 26.925 7.2 \r\nL 244.365 7.2 \r\n\" style=\"fill:none;stroke:#000000;stroke-linecap:square;stroke-linejoin:miter;stroke-width:0.8;\"/>\r\n   </g>\r\n  </g>\r\n </g>\r\n <defs>\r\n  <clipPath id=\"p66c167b652\">\r\n   <rect height=\"217.44\" width=\"217.44\" x=\"26.925\" y=\"7.2\"/>\r\n  </clipPath>\r\n </defs>\r\n</svg>\r\n",
      "image/png": "[encoded data removed]"
     },
     "metadata": {
      "needs_background": "light"
     }
    }
   ],
   "source": [
    "#? load 3k images from each item in the alphabetic csv\n",
    "ALPHABETIC_PATH = 'D:/Datasets/EMNIST/emnist-letters-train.csv'\n",
    "a_data = pd.read_csv(ALPHABETIC_PATH)\n",
    "\n",
    "# extract lables for safekeeping\n",
    "a_lables = a_data.to_numpy()[:, 0] - 1 # need to subtract 1 becayse labels go from 1-26\n",
    "\n",
    "# rotate the images by 270* and then flip it on the Y axis\n",
    "a_data_npy = a_data.to_numpy()[:, 1:]\n",
    "a_data_npy = a_data_npy.reshape((-1, 28, 28, 1))\n",
    "a_data_npy = np.rot90(np.flip(a_data_npy, axis=2), k=1, axes=(1, 2))\n",
    "a_data_npy = a_data_npy.reshape((-1, 784))\n",
    "\n",
    "# binarize the data\n",
    "THRESHOLD = 140\n",
    "a_data_npy = np.where(a_data_npy < THRESHOLD, 0, 1)\n",
    "\n",
    "# sort out and remove all but the first [SAMPLES_PER_CLASS] occurances of each class\n",
    "a_balanced_data = [[] for _ in range(26)]\n",
    "a_class_frequency = [0] * 26\n",
    "for i in range(a_data_npy.shape[0]):\n",
    "    c = a_lables[i]\n",
    "\n",
    "    if a_class_frequency[c] < SAMPLES_PER_CLASS:\n",
    "        a_class_frequency[c] += 1\n",
    "        a_balanced_data[c].append(a_data_npy[i])\n",
    "\n",
    "a_balanced_data_npy = np.asarray(a_balanced_data)\n",
    "\n",
    "print(a_balanced_data_npy.shape)\n",
    "plt.imshow(a_balanced_data_npy[1, 0].reshape((28, 28)), 'gray')\n",
    "plt.show()"
   ]
  },
  {
   "cell_type": "code",
   "execution_count": 5,
   "metadata": {},
   "outputs": [
    {
     "output_type": "stream",
     "name": "stdout",
     "text": [
      "(10, 3000, 784)\n"
     ]
    },
    {
     "output_type": "display_data",
     "data": {
      "text/plain": "<Figure size 432x288 with 1 Axes>",
      "image/svg+xml": "<?xml version=\"1.0\" encoding=\"utf-8\" standalone=\"no\"?>\r\n<!DOCTYPE svg PUBLIC \"-//W3C//DTD SVG 1.1//EN\"\r\n  \"http://www.w3.org/Graphics/SVG/1.1/DTD/svg11.dtd\">\r\n<!-- Created with matplotlib (https://matplotlib.org/) -->\r\n<svg height=\"248.518125pt\" version=\"1.1\" viewBox=\"0 0 251.565 248.518125\" width=\"251.565pt\" xmlns=\"http://www.w3.org/2000/svg\" xmlns:xlink=\"http://www.w3.org/1999/xlink\">\r\n <metadata>\r\n  <rdf:RDF xmlns:cc=\"http://creativecommons.org/ns#\" xmlns:dc=\"http://purl.org/dc/elements/1.1/\" xmlns:rdf=\"http://www.w3.org/1999/02/22-rdf-syntax-ns#\">\r\n   <cc:Work>\r\n    <dc:type rdf:resource=\"http://purl.org/dc/dcmitype/StillImage\"/>\r\n    <dc:date>2021-05-13T17:56:32.124206</dc:date>\r\n    <dc:format>image/svg+xml</dc:format>\r\n    <dc:creator>\r\n     <cc:Agent>\r\n      <dc:title>Matplotlib v3.3.4, https://matplotlib.org/</dc:title>\r\n     </cc:Agent>\r\n    </dc:creator>\r\n   </cc:Work>\r\n  </rdf:RDF>\r\n </metadata>\r\n <defs>\r\n  <style type=\"text/css\">*{stroke-linecap:butt;stroke-linejoin:round;}</style>\r\n </defs>\r\n <g id=\"figure_1\">\r\n  <g id=\"patch_1\">\r\n   <path d=\"M 0 248.518125 \r\nL 251.565 248.518125 \r\nL 251.565 0 \r\nL 0 0 \r\nz\r\n\" style=\"fill:none;\"/>\r\n  </g>\r\n  <g id=\"axes_1\">\r\n   <g id=\"patch_2\">\r\n    <path d=\"M 26.925 224.64 \r\nL 244.365 224.64 \r\nL 244.365 7.2 \r\nL 26.925 7.2 \r\nz\r\n\" style=\"fill:#ffffff;\"/>\r\n   </g>\r\n   <g clip-path=\"url(#p7e0add77f1)\">\r\n    <image height=\"218\" id=\"imageb910064f63\" transform=\"scale(1 -1)translate(0 -218)\" width=\"218\" x=\"26.925\" xlink:href=\"data:image/png;base64,\r\niVBORw0KGgoAAAANSUhEUgAAANoAAADaCAYAAADAHVzbAAADIElEQVR4nO3dQa6CMBRA0fLj/rfsnzowEgUvWM5ZAZObl/DSdhlj3AfwVX9HfwBcgdAgIDQICA0CQoOA0CAgNAgIDQJCg4DQICA0CAgNAkKDgNAgIDQICA0CQoOA0CAgNAgIDQJCg4DQIHA7+gNeud8/vwlvWZYdvwS2MdEgIDQICA0CQoOA0CAgNAgIDQKn3qNtsbaDs2ejZKJBQGgQEBoEhAYBoUFAaBAQGgSm3aOt2XLWbQx7ON5jokFAaBAQGgSEBgGhQUBoEBAaBJYxxraF0klt3ZNtZc/GIxMNAkKDgNAgIDQICA0CQoOA0CAgNAgIDQJCg4DQICA0CAgNAkKDwLTHZNYcfYzmFUds5mOiQUBoEBAaBIQGAaFBQGgQEBoELrtH2+rIPZw92+8x0SAgNAgIDQJCg4DQICA0CAgNAvZoX2LPxiMTDQJCg4DQICA0CAgNAkKDgNAgcDv6A2b1apd15jsl+Q4TDQJCg4DQICA0CAgNAkKDgN/7E1pbHzhG0zPRICA0CAgNAkKDgNAgIDQICA0Crps7IVfVzcdEg4DQICA0CAgNAkKDgNAgIDQI2KP9IHu232OiQUBoEBAaBIQGAaFBQGgQEBoE7NEmZM92PiYaBIQGAaFBQGgQEBoEhAYBoUHA+2jsyttsz5loEBAaBIQGAaFBQGgQEBoE/N6f0JZf6EcesZmZiQYBoUFAaBAQGgSEBgGhQUBoELBHI/VqTzfzERoTDQJCg4DQICA0CAgNAkKDgNAg4Nkm3uJJqM+YaBAQGgSEBgGhQUBoEBAaBIQGAXs0dmXP9pyJBgGhQUBoEBAaBIQGAaFBQGgQcK8ju1rbZV31/TUTDQJCg4DQICA0CAgNAkKDgGMynMa3f/0feYzGRIOA0CAgNAgIDQJCg4DQICA0CAgNAkKDgNAgIDQICA0CQoOA0CAgNAg4j8bPWDuv5tkmuDihQUBoEBAaBIQGAaFBQGgQsEeDgIkGAaFBQGgQEBoEhAYBoUFAaBAQGgSEBgGhQUBoEBAaBIQGAaFBQGgQEBoEhAYBoUFAaBAQGgSEBgGhQeAfOz9KraxbDn4AAAAASUVORK5CYII=\" y=\"-6.64\"/>\r\n   </g>\r\n   <g id=\"matplotlib.axis_1\">\r\n    <g id=\"xtick_1\">\r\n     <g id=\"line2d_1\">\r\n      <defs>\r\n       <path d=\"M 0 0 \r\nL 0 3.5 \r\n\" id=\"m308109a62e\" style=\"stroke:#000000;stroke-width:0.8;\"/>\r\n      </defs>\r\n      <g>\r\n       <use style=\"stroke:#000000;stroke-width:0.8;\" x=\"30.807857\" xlink:href=\"#m308109a62e\" y=\"224.64\"/>\r\n      </g>\r\n     </g>\r\n     <g id=\"text_1\">\r\n      <!-- 0 -->\r\n      <g transform=\"translate(27.626607 239.238437)scale(0.1 -0.1)\">\r\n       <defs>\r\n        <path d=\"M 31.78125 66.40625 \r\nQ 24.171875 66.40625 20.328125 58.90625 \r\nQ 16.5 51.421875 16.5 36.375 \r\nQ 16.5 21.390625 20.328125 13.890625 \r\nQ 24.171875 6.390625 31.78125 6.390625 \r\nQ 39.453125 6.390625 43.28125 13.890625 \r\nQ 47.125 21.390625 47.125 36.375 \r\nQ 47.125 51.421875 43.28125 58.90625 \r\nQ 39.453125 66.40625 31.78125 66.40625 \r\nz\r\nM 31.78125 74.21875 \r\nQ 44.046875 74.21875 50.515625 64.515625 \r\nQ 56.984375 54.828125 56.984375 36.375 \r\nQ 56.984375 17.96875 50.515625 8.265625 \r\nQ 44.046875 -1.421875 31.78125 -1.421875 \r\nQ 19.53125 -1.421875 13.0625 8.265625 \r\nQ 6.59375 17.96875 6.59375 36.375 \r\nQ 6.59375 54.828125 13.0625 64.515625 \r\nQ 19.53125 74.21875 31.78125 74.21875 \r\nz\r\n\" id=\"DejaVuSans-48\"/>\r\n       </defs>\r\n       <use xlink:href=\"#DejaVuSans-48\"/>\r\n      </g>\r\n     </g>\r\n    </g>\r\n    <g id=\"xtick_2\">\r\n     <g id=\"line2d_2\">\r\n      <g>\r\n       <use style=\"stroke:#000000;stroke-width:0.8;\" x=\"69.636429\" xlink:href=\"#m308109a62e\" y=\"224.64\"/>\r\n      </g>\r\n     </g>\r\n     <g id=\"text_2\">\r\n      <!-- 5 -->\r\n      <g transform=\"translate(66.455179 239.238437)scale(0.1 -0.1)\">\r\n       <defs>\r\n        <path d=\"M 10.796875 72.90625 \r\nL 49.515625 72.90625 \r\nL 49.515625 64.59375 \r\nL 19.828125 64.59375 \r\nL 19.828125 46.734375 \r\nQ 21.96875 47.46875 24.109375 47.828125 \r\nQ 26.265625 48.1875 28.421875 48.1875 \r\nQ 40.625 48.1875 47.75 41.5 \r\nQ 54.890625 34.8125 54.890625 23.390625 \r\nQ 54.890625 11.625 47.5625 5.09375 \r\nQ 40.234375 -1.421875 26.90625 -1.421875 \r\nQ 22.3125 -1.421875 17.546875 -0.640625 \r\nQ 12.796875 0.140625 7.71875 1.703125 \r\nL 7.71875 11.625 \r\nQ 12.109375 9.234375 16.796875 8.0625 \r\nQ 21.484375 6.890625 26.703125 6.890625 \r\nQ 35.15625 6.890625 40.078125 11.328125 \r\nQ 45.015625 15.765625 45.015625 23.390625 \r\nQ 45.015625 31 40.078125 35.4375 \r\nQ 35.15625 39.890625 26.703125 39.890625 \r\nQ 22.75 39.890625 18.8125 39.015625 \r\nQ 14.890625 38.140625 10.796875 36.28125 \r\nz\r\n\" id=\"DejaVuSans-53\"/>\r\n       </defs>\r\n       <use xlink:href=\"#DejaVuSans-53\"/>\r\n      </g>\r\n     </g>\r\n    </g>\r\n    <g id=\"xtick_3\">\r\n     <g id=\"line2d_3\">\r\n      <g>\r\n       <use style=\"stroke:#000000;stroke-width:0.8;\" x=\"108.465\" xlink:href=\"#m308109a62e\" y=\"224.64\"/>\r\n      </g>\r\n     </g>\r\n     <g id=\"text_3\">\r\n      <!-- 10 -->\r\n      <g transform=\"translate(102.1025 239.238437)scale(0.1 -0.1)\">\r\n       <defs>\r\n        <path d=\"M 12.40625 8.296875 \r\nL 28.515625 8.296875 \r\nL 28.515625 63.921875 \r\nL 10.984375 60.40625 \r\nL 10.984375 69.390625 \r\nL 28.421875 72.90625 \r\nL 38.28125 72.90625 \r\nL 38.28125 8.296875 \r\nL 54.390625 8.296875 \r\nL 54.390625 0 \r\nL 12.40625 0 \r\nz\r\n\" id=\"DejaVuSans-49\"/>\r\n       </defs>\r\n       <use xlink:href=\"#DejaVuSans-49\"/>\r\n       <use x=\"63.623047\" xlink:href=\"#DejaVuSans-48\"/>\r\n      </g>\r\n     </g>\r\n    </g>\r\n    <g id=\"xtick_4\">\r\n     <g id=\"line2d_4\">\r\n      <g>\r\n       <use style=\"stroke:#000000;stroke-width:0.8;\" x=\"147.293571\" xlink:href=\"#m308109a62e\" y=\"224.64\"/>\r\n      </g>\r\n     </g>\r\n     <g id=\"text_4\">\r\n      <!-- 15 -->\r\n      <g transform=\"translate(140.931071 239.238437)scale(0.1 -0.1)\">\r\n       <use xlink:href=\"#DejaVuSans-49\"/>\r\n       <use x=\"63.623047\" xlink:href=\"#DejaVuSans-53\"/>\r\n      </g>\r\n     </g>\r\n    </g>\r\n    <g id=\"xtick_5\">\r\n     <g id=\"line2d_5\">\r\n      <g>\r\n       <use style=\"stroke:#000000;stroke-width:0.8;\" x=\"186.122143\" xlink:href=\"#m308109a62e\" y=\"224.64\"/>\r\n      </g>\r\n     </g>\r\n     <g id=\"text_5\">\r\n      <!-- 20 -->\r\n      <g transform=\"translate(179.759643 239.238437)scale(0.1 -0.1)\">\r\n       <defs>\r\n        <path d=\"M 19.1875 8.296875 \r\nL 53.609375 8.296875 \r\nL 53.609375 0 \r\nL 7.328125 0 \r\nL 7.328125 8.296875 \r\nQ 12.9375 14.109375 22.625 23.890625 \r\nQ 32.328125 33.6875 34.8125 36.53125 \r\nQ 39.546875 41.84375 41.421875 45.53125 \r\nQ 43.3125 49.21875 43.3125 52.78125 \r\nQ 43.3125 58.59375 39.234375 62.25 \r\nQ 35.15625 65.921875 28.609375 65.921875 \r\nQ 23.96875 65.921875 18.8125 64.3125 \r\nQ 13.671875 62.703125 7.8125 59.421875 \r\nL 7.8125 69.390625 \r\nQ 13.765625 71.78125 18.9375 73 \r\nQ 24.125 74.21875 28.421875 74.21875 \r\nQ 39.75 74.21875 46.484375 68.546875 \r\nQ 53.21875 62.890625 53.21875 53.421875 \r\nQ 53.21875 48.921875 51.53125 44.890625 \r\nQ 49.859375 40.875 45.40625 35.40625 \r\nQ 44.1875 33.984375 37.640625 27.21875 \r\nQ 31.109375 20.453125 19.1875 8.296875 \r\nz\r\n\" id=\"DejaVuSans-50\"/>\r\n       </defs>\r\n       <use xlink:href=\"#DejaVuSans-50\"/>\r\n       <use x=\"63.623047\" xlink:href=\"#DejaVuSans-48\"/>\r\n      </g>\r\n     </g>\r\n    </g>\r\n    <g id=\"xtick_6\">\r\n     <g id=\"line2d_6\">\r\n      <g>\r\n       <use style=\"stroke:#000000;stroke-width:0.8;\" x=\"224.950714\" xlink:href=\"#m308109a62e\" y=\"224.64\"/>\r\n      </g>\r\n     </g>\r\n     <g id=\"text_6\">\r\n      <!-- 25 -->\r\n      <g transform=\"translate(218.588214 239.238437)scale(0.1 -0.1)\">\r\n       <use xlink:href=\"#DejaVuSans-50\"/>\r\n       <use x=\"63.623047\" xlink:href=\"#DejaVuSans-53\"/>\r\n      </g>\r\n     </g>\r\n    </g>\r\n   </g>\r\n   <g id=\"matplotlib.axis_2\">\r\n    <g id=\"ytick_1\">\r\n     <g id=\"line2d_7\">\r\n      <defs>\r\n       <path d=\"M 0 0 \r\nL -3.5 0 \r\n\" id=\"me3272bc82f\" style=\"stroke:#000000;stroke-width:0.8;\"/>\r\n      </defs>\r\n      <g>\r\n       <use style=\"stroke:#000000;stroke-width:0.8;\" x=\"26.925\" xlink:href=\"#me3272bc82f\" y=\"11.082857\"/>\r\n      </g>\r\n     </g>\r\n     <g id=\"text_7\">\r\n      <!-- 0 -->\r\n      <g transform=\"translate(13.5625 14.882076)scale(0.1 -0.1)\">\r\n       <use xlink:href=\"#DejaVuSans-48\"/>\r\n      </g>\r\n     </g>\r\n    </g>\r\n    <g id=\"ytick_2\">\r\n     <g id=\"line2d_8\">\r\n      <g>\r\n       <use style=\"stroke:#000000;stroke-width:0.8;\" x=\"26.925\" xlink:href=\"#me3272bc82f\" y=\"49.911429\"/>\r\n      </g>\r\n     </g>\r\n     <g id=\"text_8\">\r\n      <!-- 5 -->\r\n      <g transform=\"translate(13.5625 53.710647)scale(0.1 -0.1)\">\r\n       <use xlink:href=\"#DejaVuSans-53\"/>\r\n      </g>\r\n     </g>\r\n    </g>\r\n    <g id=\"ytick_3\">\r\n     <g id=\"line2d_9\">\r\n      <g>\r\n       <use style=\"stroke:#000000;stroke-width:0.8;\" x=\"26.925\" xlink:href=\"#me3272bc82f\" y=\"88.74\"/>\r\n      </g>\r\n     </g>\r\n     <g id=\"text_9\">\r\n      <!-- 10 -->\r\n      <g transform=\"translate(7.2 92.539219)scale(0.1 -0.1)\">\r\n       <use xlink:href=\"#DejaVuSans-49\"/>\r\n       <use x=\"63.623047\" xlink:href=\"#DejaVuSans-48\"/>\r\n      </g>\r\n     </g>\r\n    </g>\r\n    <g id=\"ytick_4\">\r\n     <g id=\"line2d_10\">\r\n      <g>\r\n       <use style=\"stroke:#000000;stroke-width:0.8;\" x=\"26.925\" xlink:href=\"#me3272bc82f\" y=\"127.568571\"/>\r\n      </g>\r\n     </g>\r\n     <g id=\"text_10\">\r\n      <!-- 15 -->\r\n      <g transform=\"translate(7.2 131.36779)scale(0.1 -0.1)\">\r\n       <use xlink:href=\"#DejaVuSans-49\"/>\r\n       <use x=\"63.623047\" xlink:href=\"#DejaVuSans-53\"/>\r\n      </g>\r\n     </g>\r\n    </g>\r\n    <g id=\"ytick_5\">\r\n     <g id=\"line2d_11\">\r\n      <g>\r\n       <use style=\"stroke:#000000;stroke-width:0.8;\" x=\"26.925\" xlink:href=\"#me3272bc82f\" y=\"166.397143\"/>\r\n      </g>\r\n     </g>\r\n     <g id=\"text_11\">\r\n      <!-- 20 -->\r\n      <g transform=\"translate(7.2 170.196362)scale(0.1 -0.1)\">\r\n       <use xlink:href=\"#DejaVuSans-50\"/>\r\n       <use x=\"63.623047\" xlink:href=\"#DejaVuSans-48\"/>\r\n      </g>\r\n     </g>\r\n    </g>\r\n    <g id=\"ytick_6\">\r\n     <g id=\"line2d_12\">\r\n      <g>\r\n       <use style=\"stroke:#000000;stroke-width:0.8;\" x=\"26.925\" xlink:href=\"#me3272bc82f\" y=\"205.225714\"/>\r\n      </g>\r\n     </g>\r\n     <g id=\"text_12\">\r\n      <!-- 25 -->\r\n      <g transform=\"translate(7.2 209.024933)scale(0.1 -0.1)\">\r\n       <use xlink:href=\"#DejaVuSans-50\"/>\r\n       <use x=\"63.623047\" xlink:href=\"#DejaVuSans-53\"/>\r\n      </g>\r\n     </g>\r\n    </g>\r\n   </g>\r\n   <g id=\"patch_3\">\r\n    <path d=\"M 26.925 224.64 \r\nL 26.925 7.2 \r\n\" style=\"fill:none;stroke:#000000;stroke-linecap:square;stroke-linejoin:miter;stroke-width:0.8;\"/>\r\n   </g>\r\n   <g id=\"patch_4\">\r\n    <path d=\"M 244.365 224.64 \r\nL 244.365 7.2 \r\n\" style=\"fill:none;stroke:#000000;stroke-linecap:square;stroke-linejoin:miter;stroke-width:0.8;\"/>\r\n   </g>\r\n   <g id=\"patch_5\">\r\n    <path d=\"M 26.925 224.64 \r\nL 244.365 224.64 \r\n\" style=\"fill:none;stroke:#000000;stroke-linecap:square;stroke-linejoin:miter;stroke-width:0.8;\"/>\r\n   </g>\r\n   <g id=\"patch_6\">\r\n    <path d=\"M 26.925 7.2 \r\nL 244.365 7.2 \r\n\" style=\"fill:none;stroke:#000000;stroke-linecap:square;stroke-linejoin:miter;stroke-width:0.8;\"/>\r\n   </g>\r\n  </g>\r\n </g>\r\n <defs>\r\n  <clipPath id=\"p7e0add77f1\">\r\n   <rect height=\"217.44\" width=\"217.44\" x=\"26.925\" y=\"7.2\"/>\r\n  </clipPath>\r\n </defs>\r\n</svg>\r\n",
      "image/png": "[encoded data removed]"
     },
     "metadata": {
      "needs_background": "light"
     }
    }
   ],
   "source": [
    "#? load 3k images from each item in the numeric csv\n",
    "NUMERIC_PATH = 'D:/Datasets/EMNIST/emnist-digits-train.csv'\n",
    "n_data = pd.read_csv(NUMERIC_PATH)\n",
    "\n",
    "# extract lables for safekeeping\n",
    "n_lables = n_data.to_numpy()[:, 0]\n",
    "\n",
    "# rotate the images by 270* and then flip it on the Y axis\n",
    "n_data_npy = n_data.to_numpy()[:, 1:]\n",
    "n_data_npy = n_data_npy.reshape((-1, 28, 28, 1))\n",
    "n_data_npy = np.rot90(np.flip(n_data_npy, axis=2), k=1, axes=(1, 2))\n",
    "n_data_npy = n_data_npy.reshape((-1, 784))\n",
    "\n",
    "# binarize the data\n",
    "THRESHOLD = 140\n",
    "n_data_npy = np.where(n_data_npy < THRESHOLD, 0, 1)\n",
    "\n",
    "# sort out and remove all but the first [SAMPLES_PER_CLASS] occurances of each class\n",
    "n_balanced_data = [[] for _ in range(10)]\n",
    "n_class_frequency = [0] * 10\n",
    "\n",
    "for i in range(n_data_npy.shape[0]):\n",
    "    c = n_lables[i]\n",
    "\n",
    "    if n_class_frequency[c] < SAMPLES_PER_CLASS:\n",
    "        n_class_frequency[c] += 1\n",
    "\n",
    "        n_balanced_data[c].append(n_data_npy[i])\n",
    "\n",
    "# convert to npy\n",
    "n_balanced_data_npy = np.asarray(n_balanced_data)\n",
    "\n",
    "print(n_balanced_data_npy.shape)\n",
    "plt.imshow(n_balanced_data_npy[1, 0].reshape((28, 28)), 'gray')\n",
    "plt.show()"
   ]
  },
  {
   "cell_type": "code",
   "execution_count": 6,
   "metadata": {},
   "outputs": [
    {
     "output_type": "execute_result",
     "data": {
      "text/plain": [
       "\"\\n#? load the symbolic data from the Handwritten math symbols dataset.  This data was downloaded as a collection of images sorted into names directories\\nSYMBOL_PATH = 'C:/Users/trebo/Downloads/Mathematical Symbols'\\n\\nm_balanced_data = []\\nm_class_frequency = [0] * 10\\n\\n# loop over each image in each directory\\nlable = 0\\n\\nfor dir in os.listdir(SYMBOL_PATH):\\n    dir_path = os.path.join(SYMBOL_PATH, dir)\\n\\n    m_data = []\\n\\n    for file in os.listdir(dir_path):\\n        # load the image as a greyscale jpg\\n        img_path = os.path.join(dir_path, file)\\n        img = Image.open(img_path).convert('L')\\n\\n        # note: image is blurred and contrasted to increase it's line width.  The handwritten math symbols dataset contains both thinner digits and larger resolutions so detail is lost when reducting the resolution to 28x28.  This process reduces this loss in detail\\n\\n        # apply a blur filter to the image, shrink it down, and up its contrast\\n        img = img.filter(ImageFilter.GaussianBlur(2)).resize((24, 24))\\n        enhancer = ImageEnhance.Contrast(img)\\n        img = enhancer.enhance(8)\\n\\n        # add padding to the image to make it fit in with the other images\\n        img = ImageOps.expand(img, border=2, fill='white')\\n\\n        # convert the image to a npy, invert it, up its contrast, and binarize it\\n        img_npy = np.asarray(img).reshape((784))\\n        img_npy = 255 - img_npy\\n\\n        THRESHOLD = 140\\n        img_npy = np.where(img_npy < THRESHOLD, 0, 1)\\n\\n        # add it to the array of unformated data and increment the class counter\\n        m_data.append(img_npy)\\n        m_class_frequency[lable] += 1\\n        \\n        # stop collecting images if there are enough\\n        if (m_class_frequency[lable] >= SAMPLES_PER_CLASS):\\n            break\\n    \\n    # if we're done looping through the images and don't have [SAMPLES_PER_CLASS] yet then augment the data\\n    if (m_class_frequency[lable] < SAMPLES_PER_CLASS):\\n        print(f'Augmenting data for class {dir}')\\n\\n        datagen = ImageDataGenerator(\\n            rotation_range=0,\\n            width_shift_range=0.2,\\n            height_shift_range=0.2,\\n            shear_range=0.2,\\n            zoom_range=0.2,\\n            horizontal_flip=False\\n        )\\n\\n        augmentable_data = np.asarray(m_data)[:, :].reshape((-1, 28, 28, 1))\\n\\n        for batch in datagen.flow(augmentable_data, batch_size=1):\\n\\n            # binarize the new image and add it to the data\\n            THRESHOLD = 100\\n            augmented_img = (batch * 255) / batch.max()\\n            augmented_img = np.where(augmented_img < THRESHOLD, 0, 1)\\n            augmented_img = augmented_img.reshape(784)\\n\\n            m_class_frequency[lable] += 1\\n            m_data.append(augmented_img)\\n\\n            # stop generating more images when it's no longer necisary\\n            if (m_class_frequency[lable] >= SAMPLES_PER_CLASS):\\n                break\\n        \\n    # convert the data to a npy and append it to the data array\\n    m_data_npy = np.asarray(m_data)\\n    m_balanced_data.append(m_data_npy)\\n\\n    # increment the lable counter\\n    lable += 1\\n\\n# convert the list of balanced data into a npy\\nm_balanced_data_npy = np.asarray(m_balanced_data)\\nprint(f'\\n{m_balanced_data_npy.shape}')\\nplt.imshow(m_balanced_data_npy[1, 0].reshape(28, 28), 'gray')\\nplt.show()\\n\""
      ]
     },
     "metadata": {},
     "execution_count": 6
    }
   ],
   "source": [
    "\"\"\"\n",
    "#? load the symbolic data from the Handwritten math symbols dataset.  This data was downloaded as a collection of images sorted into names directories\n",
    "SYMBOL_PATH = 'C:/Users/trebo/Downloads/Mathematical Symbols'\n",
    "\n",
    "m_balanced_data = []\n",
    "m_class_frequency = [0] * 10\n",
    "\n",
    "# loop over each image in each directory\n",
    "lable = 0\n",
    "\n",
    "for dir in os.listdir(SYMBOL_PATH):\n",
    "    dir_path = os.path.join(SYMBOL_PATH, dir)\n",
    "\n",
    "    m_data = []\n",
    "\n",
    "    for file in os.listdir(dir_path):\n",
    "        # load the image as a greyscale jpg\n",
    "        img_path = os.path.join(dir_path, file)\n",
    "        img = Image.open(img_path).convert('L')\n",
    "\n",
    "        # note: image is blurred and contrasted to increase it's line width.  The handwritten math symbols dataset contains both thinner digits and larger resolutions so detail is lost when reducting the resolution to 28x28.  This process reduces this loss in detail\n",
    "\n",
    "        # apply a blur filter to the image, shrink it down, and up its contrast\n",
    "        img = img.filter(ImageFilter.GaussianBlur(2)).resize((24, 24))\n",
    "        enhancer = ImageEnhance.Contrast(img)\n",
    "        img = enhancer.enhance(8)\n",
    "\n",
    "        # add padding to the image to make it fit in with the other images\n",
    "        img = ImageOps.expand(img, border=2, fill='white')\n",
    "\n",
    "        # convert the image to a npy, invert it, up its contrast, and binarize it\n",
    "        img_npy = np.asarray(img).reshape((784))\n",
    "        img_npy = 255 - img_npy\n",
    "\n",
    "        THRESHOLD = 140\n",
    "        img_npy = np.where(img_npy < THRESHOLD, 0, 1)\n",
    "\n",
    "        # add it to the array of unformated data and increment the class counter\n",
    "        m_data.append(img_npy)\n",
    "        m_class_frequency[lable] += 1\n",
    "        \n",
    "        # stop collecting images if there are enough\n",
    "        if (m_class_frequency[lable] >= SAMPLES_PER_CLASS):\n",
    "            break\n",
    "    \n",
    "    # if we're done looping through the images and don't have [SAMPLES_PER_CLASS] yet then augment the data\n",
    "    if (m_class_frequency[lable] < SAMPLES_PER_CLASS):\n",
    "        print(f'Augmenting data for class {dir}')\n",
    "\n",
    "        datagen = ImageDataGenerator(\n",
    "            rotation_range=0,\n",
    "            width_shift_range=0.2,\n",
    "            height_shift_range=0.2,\n",
    "            shear_range=0.2,\n",
    "            zoom_range=0.2,\n",
    "            horizontal_flip=False\n",
    "        )\n",
    "\n",
    "        augmentable_data = np.asarray(m_data)[:, :].reshape((-1, 28, 28, 1))\n",
    "\n",
    "        for batch in datagen.flow(augmentable_data, batch_size=1):\n",
    "\n",
    "            # binarize the new image and add it to the data\n",
    "            THRESHOLD = 100\n",
    "            augmented_img = (batch * 255) / batch.max()\n",
    "            augmented_img = np.where(augmented_img < THRESHOLD, 0, 1)\n",
    "            augmented_img = augmented_img.reshape(784)\n",
    "\n",
    "            m_class_frequency[lable] += 1\n",
    "            m_data.append(augmented_img)\n",
    "\n",
    "            # stop generating more images when it's no longer necisary\n",
    "            if (m_class_frequency[lable] >= SAMPLES_PER_CLASS):\n",
    "                break\n",
    "        \n",
    "    # convert the data to a npy and append it to the data array\n",
    "    m_data_npy = np.asarray(m_data)\n",
    "    m_balanced_data.append(m_data_npy)\n",
    "\n",
    "    # increment the lable counter\n",
    "    lable += 1\n",
    "\n",
    "# convert the list of balanced data into a npy\n",
    "m_balanced_data_npy = np.asarray(m_balanced_data)\n",
    "print(f'\\n{m_balanced_data_npy.shape}')\n",
    "plt.imshow(m_balanced_data_npy[1, 0].reshape(28, 28), 'gray')\n",
    "plt.show()\n",
    "\"\"\""
   ]
  },
  {
   "cell_type": "code",
   "execution_count": 7,
   "metadata": {},
   "outputs": [
    {
     "output_type": "stream",
     "name": "stdout",
     "text": [
      "{0: 'A', 1: 'B', 2: 'C', 3: 'D', 4: 'E', 5: 'F', 6: 'G', 7: 'H', 8: 'I', 9: 'J', 10: 'K', 11: 'L', 12: 'M', 13: 'N', 14: 'O', 15: 'P', 16: 'Q', 17: 'R', 18: 'S', 19: 'T', 20: 'U', 21: 'V', 22: 'W', 23: 'X', 24: 'Y', 25: 'Z', 26: '0', 27: '1', 28: '2', 29: '3', 30: '4', 31: '5', 32: '6', 33: '7', 34: '8', 35: '9'}\n"
     ]
    }
   ],
   "source": [
    "#? create a lable dictionary\n",
    "# lables are in ASCII and can be decoded with the chr() function\n",
    "LABEL_DIRECTORY = './dataset-mapping-emnist.txt'\n",
    "\n",
    "label_map = pd.read_csv(LABEL_DIRECTORY,\n",
    "                        delimiter = ' ', \n",
    "                        index_col=0, \n",
    "                        header=None, \n",
    "                        squeeze=True)\n",
    "\n",
    "label_dictionary = {}\n",
    "for index, label in enumerate(label_map):\n",
    "    label_dictionary[index] = chr(label)\n",
    "\n",
    "print(label_dictionary)"
   ]
  },
  {
   "cell_type": "code",
   "execution_count": 10,
   "metadata": {},
   "outputs": [
    {
     "output_type": "stream",
     "name": "stdout",
     "text": [
      "(36, 3000, 784)\n"
     ]
    },
    {
     "output_type": "error",
     "ename": "KeyError",
     "evalue": "36",
     "traceback": [
      "\u001b[1;31m---------------------------------------------------------------------------\u001b[0m",
      "\u001b[1;31mKeyError\u001b[0m                                  Traceback (most recent call last)",
      "\u001b[1;32m<ipython-input-10-605234853366>\u001b[0m in \u001b[0;36m<module>\u001b[1;34m\u001b[0m\n\u001b[0;32m     29\u001b[0m     \u001b[0mfig\u001b[0m\u001b[1;33m.\u001b[0m\u001b[0madd_subplot\u001b[0m\u001b[1;33m(\u001b[0m\u001b[1;36m7\u001b[0m\u001b[1;33m,\u001b[0m \u001b[1;36m7\u001b[0m\u001b[1;33m,\u001b[0m \u001b[0mi\u001b[0m\u001b[1;33m+\u001b[0m\u001b[1;36m1\u001b[0m\u001b[1;33m)\u001b[0m\u001b[1;33m\u001b[0m\u001b[1;33m\u001b[0m\u001b[0m\n\u001b[0;32m     30\u001b[0m     \u001b[0mplt\u001b[0m\u001b[1;33m.\u001b[0m\u001b[0maxis\u001b[0m\u001b[1;33m(\u001b[0m\u001b[1;34m'off'\u001b[0m\u001b[1;33m)\u001b[0m\u001b[1;33m\u001b[0m\u001b[1;33m\u001b[0m\u001b[0m\n\u001b[1;32m---> 31\u001b[1;33m     \u001b[0mplt\u001b[0m\u001b[1;33m.\u001b[0m\u001b[0mtitle\u001b[0m\u001b[1;33m(\u001b[0m\u001b[0mlabel_dictionary\u001b[0m\u001b[1;33m[\u001b[0m\u001b[0mi\u001b[0m\u001b[1;33m]\u001b[0m\u001b[1;33m)\u001b[0m\u001b[1;33m\u001b[0m\u001b[1;33m\u001b[0m\u001b[0m\n\u001b[0m\u001b[0;32m     32\u001b[0m     \u001b[0mplt\u001b[0m\u001b[1;33m.\u001b[0m\u001b[0mimshow\u001b[0m\u001b[1;33m(\u001b[0m\u001b[0mcleaned_data\u001b[0m\u001b[1;33m[\u001b[0m\u001b[0mi\u001b[0m\u001b[1;33m]\u001b[0m\u001b[1;33m[\u001b[0m\u001b[1;36m0\u001b[0m\u001b[1;33m]\u001b[0m\u001b[1;33m.\u001b[0m\u001b[0mreshape\u001b[0m\u001b[1;33m(\u001b[0m\u001b[1;36m28\u001b[0m\u001b[1;33m,\u001b[0m \u001b[1;36m28\u001b[0m\u001b[1;33m)\u001b[0m\u001b[1;33m,\u001b[0m \u001b[1;34m'gray'\u001b[0m\u001b[1;33m)\u001b[0m\u001b[1;33m\u001b[0m\u001b[1;33m\u001b[0m\u001b[0m\n\u001b[0;32m     33\u001b[0m     \u001b[0mplt\u001b[0m\u001b[1;33m.\u001b[0m\u001b[0mclim\u001b[0m\u001b[1;33m(\u001b[0m\u001b[1;36m0\u001b[0m\u001b[1;33m,\u001b[0m \u001b[1;36m2\u001b[0m\u001b[1;33m)\u001b[0m\u001b[1;33m\u001b[0m\u001b[1;33m\u001b[0m\u001b[0m\n",
      "\u001b[1;31mKeyError\u001b[0m: 36"
     ]
    }
   ],
   "source": [
    "# combine all the npy arrays into a single huge array\n",
    "data = np.concatenate((a_balanced_data_npy, n_balanced_data_npy))\n",
    "class_frequency = np.concatenate((a_class_frequency, n_class_frequency))\n",
    "# data = np.concatenate((n_balanced_data_npy, m_balanced_data_npy))\n",
    "# class_frequency = np.concatenate((n_class_frequency, m_class_frequency))\n",
    "\n",
    "# normalize the dataset\n",
    "# data =  data / 255\n",
    "\n",
    "# slice out the letters 'O, L, I, X, Q, T' because they are too similar to to numbers / symbols\n",
    "cleaned_data = data.copy()\n",
    "\"\"\"\n",
    "cleaned_data = np.delete(cleaned_data, 23, axis=0)\n",
    "cleaned_data = np.delete(cleaned_data, 20, axis=0)\n",
    "cleaned_data = np.delete(cleaned_data, 14, axis=0)\n",
    "cleaned_data = np.delete(cleaned_data, 11, axis=0)\n",
    "cleaned_data = np.delete(cleaned_data, 8, axis=0)\n",
    "\"\"\"\n",
    "\n",
    "print(cleaned_data.shape)\n",
    "\n",
    "# save the dataset\n",
    "np.save('./preprocessed_data_alphabetic_binarized.npy', cleaned_data)\n",
    "\n",
    "# plot an image for each category\n",
    "fig = plt.figure(figsize=(20, 20))\n",
    "\n",
    "for i in range(36):\n",
    "    fig.add_subplot(7, 7, i+1)\n",
    "    plt.axis('off')\n",
    "    plt.title(label_dictionary[i])\n",
    "    plt.imshow(cleaned_data[i][0].reshape(28, 28), 'gray')\n",
    "    plt.clim(0, 2)\n",
    "\n",
    "plt.show()"
   ]
  },
  {
   "cell_type": "code",
   "execution_count": null,
   "metadata": {},
   "outputs": [],
   "source": []
  }
 ]
}