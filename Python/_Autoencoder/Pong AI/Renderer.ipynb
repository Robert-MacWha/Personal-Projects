{
 "cells": [
  {
   "cell_type": "code",
   "execution_count": 1,
   "id": "descending-lafayette",
   "metadata": {},
   "outputs": [],
   "source": [
    "import os\n",
    "os.environ['TF_CPP_MIN_LOG_LEVEL'] = '3' \n",
    "\n",
    "import tensorflow as tf\n",
    "from tensorflow.keras.models     import Model\n",
    "from tensorflow.keras.layers     import Input, Dense, Dropout, Flatten, Reshape, Conv2D, Conv2DTranspose, LeakyReLU\n",
    "from tensorflow.keras.optimizers import Adam, RMSprop\n",
    "\n",
    "from tqdm import tqdm\n",
    "import numpy as np\n",
    "import matplotlib.pyplot as plt"
   ]
  },
  {
   "cell_type": "code",
   "execution_count": 2,
   "id": "collect-dairy",
   "metadata": {},
   "outputs": [],
   "source": [
    "# ---------- hyperparameters ----------\n",
    "EPOCHS       = 30\n",
    "BATCH_SIZE   = 64\n",
    "LATENT_SPACE = 64\n",
    "\n",
    "tf.random.set_seed(2)"
   ]
  },
  {
   "cell_type": "code",
   "execution_count": 3,
   "id": "ceramic-documentation",
   "metadata": {},
   "outputs": [
    {
     "data": {
      "image/png": "[encoded data removed]",
      "text/plain": [
       "<Figure size 432x288 with 1 Axes>"
      ]
     },
     "metadata": {
      "needs_background": "light"
     },
     "output_type": "display_data"
    }
   ],
   "source": [
    "# ---------- training data ----------\n",
    "screens = np.load('_screens.npy')\n",
    "screens = screens.reshape( (-1, 256, 192, 1) )\n",
    "screens = screens.astype(np.float32)\n",
    "\n",
    "plt.axis('off')\n",
    "plt.imshow(screens[0].reshape(256, 192))\n",
    "plt.show()"
   ]
  },
  {
   "cell_type": "markdown",
   "id": "approved-surgeon",
   "metadata": {},
   "source": [
    "## Create the models"
   ]
  },
  {
   "cell_type": "code",
   "execution_count": 4,
   "id": "bacterial-briefs",
   "metadata": {},
   "outputs": [
    {
     "name": "stdout",
     "output_type": "stream",
     "text": [
      "Model: \"model\"\n",
      "_________________________________________________________________\n",
      "Layer (type)                 Output Shape              Param #   \n",
      "=================================================================\n",
      "input_1 (InputLayer)         [(None, 256, 192, 1)]     0         \n",
      "_________________________________________________________________\n",
      "conv2d (Conv2D)              (None, 128, 96, 8)        136       \n",
      "_________________________________________________________________\n",
      "leaky_re_lu (LeakyReLU)      (None, 128, 96, 8)        0         \n",
      "_________________________________________________________________\n",
      "conv2d_1 (Conv2D)            (None, 64, 48, 16)        2064      \n",
      "_________________________________________________________________\n",
      "leaky_re_lu_1 (LeakyReLU)    (None, 64, 48, 16)        0         \n",
      "_________________________________________________________________\n",
      "conv2d_2 (Conv2D)            (None, 32, 24, 16)        4112      \n",
      "_________________________________________________________________\n",
      "leaky_re_lu_2 (LeakyReLU)    (None, 32, 24, 16)        0         \n",
      "_________________________________________________________________\n",
      "conv2d_3 (Conv2D)            (None, 16, 12, 32)        8224      \n",
      "_________________________________________________________________\n",
      "leaky_re_lu_3 (LeakyReLU)    (None, 16, 12, 32)        0         \n",
      "_________________________________________________________________\n",
      "conv2d_4 (Conv2D)            (None, 8, 6, 64)          32832     \n",
      "_________________________________________________________________\n",
      "leaky_re_lu_4 (LeakyReLU)    (None, 8, 6, 64)          0         \n",
      "_________________________________________________________________\n",
      "flatten (Flatten)            (None, 3072)              0         \n",
      "_________________________________________________________________\n",
      "dense (Dense)                (None, 64)                196672    \n",
      "=================================================================\n",
      "Total params: 244,040\n",
      "Trainable params: 244,040\n",
      "Non-trainable params: 0\n",
      "_________________________________________________________________\n",
      "None\n"
     ]
    }
   ],
   "source": [
    "# encoder\n",
    "i = Input( shape=(256, 192, 1) )\n",
    "\n",
    "x = Conv2D( filters=8, kernel_size=4, strides=2, padding='same')(i)\n",
    "x = LeakyReLU()(x)\n",
    "\n",
    "x = Conv2D( filters=16, kernel_size=4 , strides=2, padding='same')(x)\n",
    "x = LeakyReLU()(x)\n",
    "\n",
    "x = Conv2D( filters=16, kernel_size=4 , strides=2, padding='same')(x)\n",
    "x = LeakyReLU()(x)\n",
    "\n",
    "x = Conv2D( filters=32, kernel_size=4 , strides=2, padding='same')(x)\n",
    "x = LeakyReLU()(x)\n",
    "\n",
    "x = Conv2D( filters=64, kernel_size=4 , strides=2, padding='same')(x)\n",
    "x = LeakyReLU()(x)\n",
    "\n",
    "x = Flatten()(x)\n",
    "\n",
    "x = Dense( LATENT_SPACE, activation='sigmoid' )(x)\n",
    "\n",
    "encoder = Model(i, x)\n",
    "print(encoder.summary())"
   ]
  },
  {
   "cell_type": "code",
   "execution_count": 5,
   "id": "structured-marshall",
   "metadata": {},
   "outputs": [
    {
     "name": "stdout",
     "output_type": "stream",
     "text": [
      "Model: \"model_1\"\n",
      "_________________________________________________________________\n",
      "Layer (type)                 Output Shape              Param #   \n",
      "=================================================================\n",
      "input_2 (InputLayer)         [(None, 64)]              0         \n",
      "_________________________________________________________________\n",
      "dense_1 (Dense)              (None, 6144)              399360    \n",
      "_________________________________________________________________\n",
      "leaky_re_lu_5 (LeakyReLU)    (None, 6144)              0         \n",
      "_________________________________________________________________\n",
      "reshape (Reshape)            (None, 16, 12, 32)        0         \n",
      "_________________________________________________________________\n",
      "conv2d_transpose (Conv2DTran (None, 32, 24, 32)        16416     \n",
      "_________________________________________________________________\n",
      "leaky_re_lu_6 (LeakyReLU)    (None, 32, 24, 32)        0         \n",
      "_________________________________________________________________\n",
      "conv2d_transpose_1 (Conv2DTr (None, 64, 48, 16)        32784     \n",
      "_________________________________________________________________\n",
      "leaky_re_lu_7 (LeakyReLU)    (None, 64, 48, 16)        0         \n",
      "_________________________________________________________________\n",
      "conv2d_transpose_2 (Conv2DTr (None, 128, 96, 8)        8200      \n",
      "_________________________________________________________________\n",
      "leaky_re_lu_8 (LeakyReLU)    (None, 128, 96, 8)        0         \n",
      "_________________________________________________________________\n",
      "conv2d_transpose_3 (Conv2DTr (None, 256, 192, 1)       8193      \n",
      "=================================================================\n",
      "Total params: 464,953\n",
      "Trainable params: 464,953\n",
      "Non-trainable params: 0\n",
      "_________________________________________________________________\n",
      "None\n"
     ]
    }
   ],
   "source": [
    "# decoder\n",
    "i = Input( shape=(LATENT_SPACE) )\n",
    "\n",
    "x = Dense( 6144 )(i)\n",
    "x = LeakyReLU()(x)\n",
    "\n",
    "x = Reshape( target_shape=(16, 12, 32) )(x)\n",
    "\n",
    "x = Conv2DTranspose( 32, kernel_size=4, strides=2, padding='same' )(x)\n",
    "x = LeakyReLU()(x)\n",
    "\n",
    "x = Conv2DTranspose( 16, kernel_size=8, strides=2, padding='same' )(x)\n",
    "x = LeakyReLU()(x)\n",
    "\n",
    "x = Conv2DTranspose( 8, kernel_size=8, strides=2, padding='same' )(x)\n",
    "x = LeakyReLU()(x)\n",
    "\n",
    "x = Conv2DTranspose( 1 , kernel_size=32, strides=2, padding='same', activation='sigmoid' )(x)\n",
    "\n",
    "decoder = Model(i, x)\n",
    "print(decoder.summary())"
   ]
  },
  {
   "cell_type": "code",
   "execution_count": 6,
   "id": "generous-supervisor",
   "metadata": {
    "scrolled": true
   },
   "outputs": [
    {
     "name": "stdout",
     "output_type": "stream",
     "text": [
      "Model: \"model_2\"\n",
      "_________________________________________________________________\n",
      "Layer (type)                 Output Shape              Param #   \n",
      "=================================================================\n",
      "input_3 (InputLayer)         [(None, 256, 192, 1)]     0         \n",
      "_________________________________________________________________\n",
      "model (Model)                (None, 64)                244040    \n",
      "_________________________________________________________________\n",
      "model_1 (Model)              (None, 256, 192, 1)       464953    \n",
      "=================================================================\n",
      "Total params: 708,993\n",
      "Trainable params: 708,993\n",
      "Non-trainable params: 0\n",
      "_________________________________________________________________\n",
      "None\n"
     ]
    }
   ],
   "source": [
    "i = Input( shape=(256, 192, 1) )\n",
    "x = encoder(i)\n",
    "x = decoder(x)\n",
    "\n",
    "autoencoder = Model(i, x)\n",
    "autoencoder.compile( loss='binary_crossentropy', optimizer=RMSprop(lr=0.0005) )\n",
    "print(autoencoder.summary())"
   ]
  },
  {
   "cell_type": "markdown",
   "id": "precise-disease",
   "metadata": {},
   "source": [
    "## Training"
   ]
  },
  {
   "cell_type": "code",
   "execution_count": 7,
   "id": "august-emphasis",
   "metadata": {},
   "outputs": [
    {
     "name": "stdout",
     "output_type": "stream",
     "text": [
      "Train on 18001 samples, validate on 2001 samples\n",
      "Epoch 1/30\n",
      "18001/18001 [==============================] - 43s 2ms/sample - loss: 0.0396 - val_loss: 0.0119\n",
      "Epoch 2/30\n",
      "18001/18001 [==============================] - 26s 1ms/sample - loss: 0.0077 - val_loss: 0.0057\n",
      "Epoch 3/30\n",
      "18001/18001 [==============================] - 26s 1ms/sample - loss: 0.0045 - val_loss: 0.0039\n",
      "Epoch 4/30\n",
      "18001/18001 [==============================] - 26s 1ms/sample - loss: 0.0032 - val_loss: 0.0035\n",
      "Epoch 5/30\n",
      "18001/18001 [==============================] - 26s 1ms/sample - loss: 0.0026 - val_loss: 0.0022\n",
      "Epoch 6/30\n",
      "18001/18001 [==============================] - 26s 1ms/sample - loss: 0.0022 - val_loss: 0.0021\n",
      "Epoch 7/30\n",
      "18001/18001 [==============================] - 26s 1ms/sample - loss: 0.0019 - val_loss: 0.0022\n",
      "Epoch 8/30\n",
      "18001/18001 [==============================] - 26s 1ms/sample - loss: 0.0017 - val_loss: 0.0014\n",
      "Epoch 9/30\n",
      "18001/18001 [==============================] - 26s 1ms/sample - loss: 0.0015 - val_loss: 0.0017\n",
      "Epoch 10/30\n",
      "18001/18001 [==============================] - 26s 1ms/sample - loss: 0.0013 - val_loss: 0.0014\n",
      "Epoch 11/30\n",
      "18001/18001 [==============================] - 26s 1ms/sample - loss: 0.0012 - val_loss: 0.0016\n",
      "Epoch 12/30\n",
      "18001/18001 [==============================] - 26s 1ms/sample - loss: 0.0011 - val_loss: 8.4909e-04\n",
      "Epoch 13/30\n",
      "18001/18001 [==============================] - 26s 1ms/sample - loss: 0.0010 - val_loss: 8.2748e-04\n",
      "Epoch 14/30\n",
      "18001/18001 [==============================] - 26s 1ms/sample - loss: 9.2050e-04 - val_loss: 7.9745e-04\n",
      "Epoch 15/30\n",
      "18001/18001 [==============================] - 26s 1ms/sample - loss: 8.2836e-04 - val_loss: 0.0011\n",
      "Epoch 16/30\n",
      "18001/18001 [==============================] - 26s 1ms/sample - loss: 7.6183e-04 - val_loss: 8.6149e-04\n",
      "Epoch 17/30\n",
      "18001/18001 [==============================] - 26s 1ms/sample - loss: 6.9715e-04 - val_loss: 4.6928e-04\n",
      "Epoch 18/30\n",
      "18001/18001 [==============================] - 26s 1ms/sample - loss: 6.3894e-04 - val_loss: 0.0011\n",
      "Epoch 19/30\n",
      "18001/18001 [==============================] - 26s 1ms/sample - loss: 5.7813e-04 - val_loss: 3.9149e-04\n",
      "Epoch 20/30\n",
      "18001/18001 [==============================] - 26s 1ms/sample - loss: 5.2649e-04 - val_loss: 0.0011\n",
      "Epoch 21/30\n",
      "18001/18001 [==============================] - 26s 1ms/sample - loss: 5.0411e-04 - val_loss: 3.2851e-04\n",
      "Epoch 22/30\n",
      "18001/18001 [==============================] - 26s 1ms/sample - loss: 4.7748e-04 - val_loss: 0.0013\n",
      "Epoch 23/30\n",
      "18001/18001 [==============================] - 26s 1ms/sample - loss: 4.2829e-04 - val_loss: 0.0017\n",
      "Epoch 24/30\n",
      "18001/18001 [==============================] - 26s 1ms/sample - loss: 4.0988e-04 - val_loss: 1.9511e-04\n",
      "Epoch 25/30\n",
      "18001/18001 [==============================] - 26s 1ms/sample - loss: 3.9910e-04 - val_loss: 2.0136e-04\n",
      "Epoch 26/30\n",
      "18001/18001 [==============================] - 26s 1ms/sample - loss: 3.4730e-04 - val_loss: 4.3853e-04\n",
      "Epoch 27/30\n",
      "18001/18001 [==============================] - 26s 1ms/sample - loss: 3.3573e-04 - val_loss: 2.1812e-04\n",
      "Epoch 28/30\n",
      "18001/18001 [==============================] - 26s 1ms/sample - loss: 3.1996e-04 - val_loss: 3.5217e-04\n",
      "Epoch 29/30\n",
      "18001/18001 [==============================] - 26s 1ms/sample - loss: 3.1178e-04 - val_loss: 1.8370e-04\n",
      "Epoch 30/30\n",
      "18001/18001 [==============================] - 26s 1ms/sample - loss: 3.0557e-04 - val_loss: 1.3684e-04\n"
     ]
    }
   ],
   "source": [
    "# ---------- training loop ----------\n",
    "history = autoencoder.fit( x=screens, y=screens, batch_size=BATCH_SIZE, epochs=EPOCHS, verbose=1, validation_split=0.1 )\n",
    "history = history.history"
   ]
  },
  {
   "cell_type": "markdown",
   "id": "speaking-washington",
   "metadata": {},
   "source": [
    "## Error Visualization"
   ]
  },
  {
   "cell_type": "code",
   "execution_count": 8,
   "id": "negative-december",
   "metadata": {},
   "outputs": [
    {
     "data": {
      "image/png": "[encoded data removed]",
      "text/plain": [
       "<Figure size 432x288 with 1 Axes>"
      ]
     },
     "metadata": {
      "needs_background": "light"
     },
     "output_type": "display_data"
    }
   ],
   "source": [
    "# plot model loss over time\n",
    "plt.plot(history['loss']        , label='loss')\n",
    "plt.plot(history['val_loss']    , label='val_loss')\n",
    "\n",
    "plt.legend(loc=1)\n",
    "plt.show()"
   ]
  },
  {
   "cell_type": "code",
   "execution_count": 9,
   "id": "international-parcel",
   "metadata": {},
   "outputs": [
    {
     "data": {
      "image/png": "[encoded data removed]",
      "text/plain": [
       "<Figure size 5760x576 with 40 Axes>"
      ]
     },
     "metadata": {
      "needs_background": "light"
     },
     "output_type": "display_data"
    }
   ],
   "source": [
    "originals   = np.reshape(screens[:20]                     , (20, 256, 192))\n",
    "predictions = np.reshape(autoencoder.predict(screens[:20]), (20, 256, 192))\n",
    "\n",
    "# combine the predicted and original arrays\n",
    "images = np.concatenate((originals, predictions))\n",
    "\n",
    "# Create a figure from the predicted and real images\n",
    "cols, rows = 20, 2\n",
    "\n",
    "fig=plt.figure(figsize=(80, 8))\n",
    "\n",
    "for i in range(1, cols*rows +1):\n",
    "    fig.add_subplot(rows, cols, i)\n",
    "    plt.axis('off')\n",
    "    plt.imshow(images[i-1])\n",
    "\n",
    "# Save the figure to the images dir\n",
    "plt.show()"
   ]
  },
  {
   "cell_type": "code",
   "execution_count": 10,
   "id": "revised-jason",
   "metadata": {},
   "outputs": [
    {
     "data": {
      "image/png": "[encoded data removed]",
      "text/plain": [
       "<Figure size 1440x72 with 20 Axes>"
      ]
     },
     "metadata": {
      "needs_background": "light"
     },
     "output_type": "display_data"
    }
   ],
   "source": [
    "# differences between reconstructed & original images\n",
    "differences = np.absolute(np.subtract(originals, predictions))\n",
    "\n",
    "# Create a figure from these differences\n",
    "cols, rows = 20, 1\n",
    "\n",
    "fig=plt.figure(figsize=(20, 1))\n",
    "\n",
    "for i in range(1, cols*rows + 1):\n",
    "    fig.add_subplot(rows, cols, i)\n",
    "    plt.axis('off')\n",
    "    plt.imshow(differences[i-1])\n",
    "\n",
    "# Save the figure to the images dir\n",
    "plt.show()"
   ]
  },
  {
   "cell_type": "markdown",
   "id": "nonprofit-pierre",
   "metadata": {},
   "source": [
    "## Save the model locally"
   ]
  },
  {
   "cell_type": "code",
   "execution_count": 11,
   "id": "rough-bumper",
   "metadata": {},
   "outputs": [],
   "source": [
    "encoder.save('models\\encoder.h5')\n",
    "decoder.save('models\\decoder.h5')"
   ]
  },
  {
   "cell_type": "code",
   "execution_count": null,
   "id": "classical-basic",
   "metadata": {},
   "outputs": [],
   "source": []
  }
 ],
 "metadata": {
  "kernelspec": {
   "display_name": "Python 3",
   "language": "python",
   "name": "python3"
  },
  "language_info": {
   "codemirror_mode": {
    "name": "ipython",
    "version": 3
   },
   "file_extension": ".py",
   "mimetype": "text/x-python",
   "name": "python",
   "nbconvert_exporter": "python",
   "pygments_lexer": "ipython3",
   "version": "3.7.9"
  }
 },
 "nbformat": 4,
 "nbformat_minor": 5
}