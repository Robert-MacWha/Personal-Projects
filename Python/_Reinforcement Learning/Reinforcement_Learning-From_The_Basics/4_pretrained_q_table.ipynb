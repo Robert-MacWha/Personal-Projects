{
 "metadata": {
  "language_info": {
   "codemirror_mode": {
    "name": "ipython",
    "version": 3
   },
   "file_extension": ".py",
   "mimetype": "text/x-python",
   "name": "python",
   "nbconvert_exporter": "python",
   "pygments_lexer": "ipython3",
   "version": "3.9.5"
  },
  "orig_nbformat": 2,
  "kernelspec": {
   "name": "python395jvsc74a57bd086c080258fc1895424e842bd7334418d491c3ba45b63b72b9209632f640ad29e",
   "display_name": "Python 3.9.5 64-bit ('rl': conda)"
  }
 },
 "nbformat": 4,
 "nbformat_minor": 2,
 "cells": [
  {
   "cell_type": "code",
   "execution_count": 1,
   "metadata": {},
   "outputs": [],
   "source": [
    "#? imports\n",
    "import gym\n",
    "import numpy as np"
   ]
  },
  {
   "cell_type": "code",
   "execution_count": 2,
   "metadata": {},
   "outputs": [],
   "source": [
    "#? initialize the environment\n",
    "env = gym.make('MountainCar-v0')\n",
    "\n",
    "# get the action and observation space (used when constructing the q table)\n",
    "ACTION_SPACE      = env.action_space.n\n",
    "OBSERVATION_SPACE = len(env.observation_space.sample())"
   ]
  },
  {
   "cell_type": "code",
   "execution_count": 3,
   "metadata": {},
   "outputs": [],
   "source": [
    "#? load the q table\n",
    "q_table = np.load('4_trained_q_table.npy')\n",
    "\n",
    "Q_INCREMENTS = q_table.shape[0]"
   ]
  },
  {
   "cell_type": "code",
   "execution_count": 4,
   "metadata": {},
   "outputs": [],
   "source": [
    "#? build a function that takes an observation and return the action given by the q table\n",
    "def obs_To_Index(env, obs, increments):\n",
    "\n",
    "    # get the bounds of the observation_space\n",
    "    obs_min = env.observation_space.low\n",
    "    obs_max = env.observation_space.high\n",
    "\n",
    "    # normalize the observation\n",
    "    obs = (obs - obs_min) / (obs_max - obs_min)\n",
    "\n",
    "    # convert the normalized array to an integer indice\n",
    "    indice = tuple(np.floor(obs * increments).astype(int))\n",
    "\n",
    "    return indice"
   ]
  },
  {
   "cell_type": "code",
   "execution_count": 5,
   "metadata": {},
   "outputs": [],
   "source": [
    "#? run the environment\n",
    "observation = env.reset()\n",
    "done = False\n",
    "\n",
    "while not done:\n",
    "    env.render()\n",
    "\n",
    "    # find the discrete cell coresponding to the current observation\n",
    "    indice = obs_To_Index(env, observation, Q_INCREMENTS)\n",
    "\n",
    "    # select the action to take\n",
    "    action = q_table[indice].argmax()\n",
    "\n",
    "    # take the action\n",
    "    new_observation, reward, done, info = env.step(action)\n",
    "\n",
    "    # update the current observation\n",
    "    observation = new_observation\n",
    "\n",
    "env.close()"
   ]
  }
 ]
}